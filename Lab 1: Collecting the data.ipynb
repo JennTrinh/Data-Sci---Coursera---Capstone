##Display the hands on lab 1 for this course. 
